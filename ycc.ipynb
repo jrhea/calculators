{
 "cells": [
  {
   "cell_type": "code",
   "execution_count": 42,
   "metadata": {},
   "outputs": [],
   "source": [
    "import pandas as pd\n",
    "import numpy as np\n",
    "\n",
    "def calculate_yield(yield_interest = 8, starting_fyt_interest = 1,\n",
    "                    ending_fyt_interest = 12, step_size = .001,\n",
    "                    input_amount = 1000, liquidity = 50, gas_fee = .0019,\n",
    "                    days_maturity = 90, days_matured = 0, target_interest = 0,\n",
    "                    time_stretch = 15):\n",
    "  columns = (\n",
    "    'FYT Interest',\n",
    "    'Actual Interest With Slippage',\n",
    "    'Total Expenditure',\n",
    "    'Received at Maturity',\n",
    "    'APY'\n",
    "  )\n",
    "\n",
    "  values = []\n",
    "  current_interest = ending_fyt_interest\n",
    "\n",
    "  # zero out accumulated interest\n",
    "  accumulated_interest = 0\n",
    "\n",
    "  # Include time stretch\n",
    "  t = (days_maturity - days_matured) / (365 * time_stretch)\n",
    "  # target amount of underlying to accrue\n",
    "  target_accrued = (target_interest * input_amount * (days_maturity - days_matured) / 365 / 100)\n",
    "\n",
    "  for i in reversed(range (0, int(((ending_fyt_interest - starting_fyt_interest)/step_size)) + 1)):\n",
    "    if days_matured > 0:\n",
    "      accumulated_interest = input_amount * days_matured/365 * yield_interest/100\n",
    "\n",
    "    # If the apy is 10% and there is 6 months remaining, the applied interest is 5%\n",
    "    applied_interest = (days_maturity - days_matured) / 365 * current_interest\n",
    "\n",
    "    y_start = liquidity\n",
    "    x_start = y_start/((1-applied_interest/100)**(-1/t)-1)\n",
    "    total_supply = x_start\n",
    "\n",
    "    k = (y_start + total_supply)**(1-t) + x_start**(1-t)\n",
    "    j = input_amount - accumulated_interest\n",
    "    i = x_start - pow(k-pow(y_start + total_supply + j,1-t),1/(1-t))\n",
    "    fee = (j - i) * .1\n",
    "    i = i - fee\n",
    "\n",
    "    fyt_discount_with_slippage = (1 - (i / j)) * 100\n",
    "\n",
    "    fyt_expenditure = input_amount - accumulated_interest - i\n",
    "    expenditure = fyt_expenditure + gas_fee + accumulated_interest\n",
    "    received = (input_amount * yield_interest / 100) * (days_maturity) / 365\n",
    "    apy = round(((received / expenditure) - 1) * 365 / (days_maturity - days_matured) * 100, 2)\n",
    "    \n",
    "    if ((received - expenditure) * 10) > target_accrued:\n",
    "        row = []\n",
    "        row.append(input_amount)\n",
    "        row.append(current_interest)\n",
    "        row.append(i/j)\n",
    "        row.append(round(fyt_discount_with_slippage * (365/ (days_maturity - days_matured)), 5))\n",
    "        row.append(expenditure)\n",
    "        row.append(received)\n",
    "        row.append(received - expenditure)\n",
    "        row.append(apy)\n",
    "        return row\n",
    "\n",
    "    current_interest = current_interest - step_size\n"
   ]
  },
  {
   "cell_type": "code",
   "execution_count": null,
   "metadata": {},
   "outputs": [],
   "source": []
  },
  {
   "cell_type": "code",
   "execution_count": 43,
   "metadata": {
    "scrolled": true
   },
   "outputs": [
    {
     "data": {
      "application/vnd.jupyter.widget-view+json": {
       "model_id": "fe6936be76d9402a97ee71f744622a46",
       "version_major": 2,
       "version_minor": 0
      },
      "text/plain": [
       "VBox(children=(Label(value='Brute Force Calc'), FloatText(value=8.0, description='speculated interest:', layou…"
      ]
     },
     "metadata": {},
     "output_type": "display_data"
    }
   ],
   "source": [
    "import ipywidgets as widgets\n",
    "\n",
    "def button_run_on_click(_):\n",
    "    status_label.value = \"running....\"\n",
    "\n",
    "    columns = ['Input','FYT APY', 'FYT Price', 'Slippage APY', 'Spent', 'Received', 'Gain', 'APY']\n",
    "    values = []\n",
    "\n",
    "    for i in np.arange(.5, 5.1, .1):\n",
    "      results = calculate_yield(yield_interest=yield_interest_input.value, \\\n",
    "                                input_amount = i, \\\n",
    "                                days_maturity = float(maturity_period_input.value), \\\n",
    "                                days_matured = days_matured_input.value, \\\n",
    "                                liquidity = liquidity_input.value, \\\n",
    "                                time_stretch = time_stretch_input.value, \\\n",
    "                                target_interest=target_interest_input.value)\n",
    "      if results is not None:\n",
    "        values.append(results)\n",
    "\n",
    "    df = pd.DataFrame(values, columns = columns)\n",
    "    pd.options.display.width = 20\n",
    "    df.style.set_properties(**{'text-align': 'left'})\n",
    "    \n",
    "    status_label.value = \"\"\n",
    "\n",
    "    result_box = setup_ui(df)\n",
    "\n",
    "    main_box.children = [yield_interest_input, target_interest_input, maturity_period_input, days_matured_input, liquidity_input, time_stretch_input, button_run, status_label, result_box]\n",
    "\n",
    "\n",
    "def setup_ui(df):\n",
    "    out = widgets.Output()\n",
    "    with out:\n",
    "        display(df)\n",
    "    return out\n",
    "normal_label = widgets.Label()\n",
    "normal_label.value = \"Brute Force Calc\"\n",
    "status_label = widgets.Label()\n",
    "status_label.layout.width = '300px'\n",
    "\n",
    "layout = widgets.Layout(\n",
    "    align_content='flex-start',\n",
    ")\n",
    "style = {\n",
    "    'description_width':'initial'\n",
    "}\n",
    "yield_interest_input = widgets.FloatText(description='speculated interest:', value=8, style=style, layout=layout)\n",
    "target_interest_input = widgets.FloatText(description='target interest:', value=16, style=style, layout=layout)\n",
    "maturity_period_input = widgets.Dropdown(description='tranche length:', options=['90', '120', '180'],style=style, layout=layout)\n",
    "days_matured_input = widgets.FloatText(description='days matured:', value=0, style=style, layout=layout,disabled=True)\n",
    "liquidity_input = widgets.FloatText(description='liquidity:', value=50, style=style, layout=layout)\n",
    "time_stretch_input = widgets.FloatText(description='time stretch:', value=15, style=style, layout=layout)\n",
    "button_run = widgets.Button(description=\"Run\")\n",
    "main_box = widgets.VBox([normal_label,yield_interest_input, target_interest_input, maturity_period_input, days_matured_input, liquidity_input, time_stretch_input, button_run, status_label])\n",
    "button_run.on_click(button_run_on_click)\n",
    "display(main_box)\n"
   ]
  },
  {
   "cell_type": "code",
   "execution_count": null,
   "metadata": {},
   "outputs": [],
   "source": []
  },
  {
   "cell_type": "code",
   "execution_count": null,
   "metadata": {},
   "outputs": [],
   "source": []
  },
  {
   "cell_type": "code",
   "execution_count": null,
   "metadata": {},
   "outputs": [],
   "source": []
  },
  {
   "cell_type": "code",
   "execution_count": null,
   "metadata": {},
   "outputs": [],
   "source": []
  },
  {
   "cell_type": "code",
   "execution_count": null,
   "metadata": {},
   "outputs": [],
   "source": []
  },
  {
   "cell_type": "code",
   "execution_count": null,
   "metadata": {},
   "outputs": [],
   "source": []
  },
  {
   "cell_type": "code",
   "execution_count": null,
   "metadata": {},
   "outputs": [],
   "source": []
  },
  {
   "cell_type": "code",
   "execution_count": null,
   "metadata": {},
   "outputs": [],
   "source": []
  },
  {
   "cell_type": "code",
   "execution_count": 44,
   "metadata": {},
   "outputs": [],
   "source": [
    "def jonny(speculated_interest=8,input_amount=.5,days_maturity=90,\\\n",
    "          liquidity=50,time_stretch=15,gas_fee=0.0019,\\\n",
    "          target_interest=16):\n",
    "    t = (days_maturity) / (365 * time_stretch)\n",
    "    T = (days_maturity) / 365\n",
    "    y_start = liquidity\n",
    "\n",
    "    A = (input_amount*(speculated_interest/100)*T-(target_interest/1000)*input_amount*T-gas_fee)/input_amount\n",
    "    current_interest = A/T*100\n",
    "    x_start=y_start/((1-T*(current_interest/100))**(-1/t)-1)\n",
    "    unit_price = ((y_start+x_start)/x_start)**-t\n",
    "    expenditure=input_amount-unit_price*input_amount+gas_fee\n",
    "    received = (input_amount * speculated_interest / 100) * (days_maturity) / 365\n",
    "    apy = round(((received / expenditure) - 1) * 365 / (days_maturity) * 100, 2)\n",
    "    row = []\n",
    "    row.append(input_amount)\n",
    "    row.append(\"?\")\n",
    "    row.append(unit_price)\n",
    "    row.append(A/T*100)\n",
    "    row.append(expenditure)\n",
    "    row.append(received)\n",
    "    row.append(received - expenditure)\n",
    "    row.append(apy)\n",
    "    return row"
   ]
  },
  {
   "cell_type": "code",
   "execution_count": 45,
   "metadata": {},
   "outputs": [
    {
     "data": {
      "application/vnd.jupyter.widget-view+json": {
       "model_id": "6be1f98340594f52b617acbaa1ad7453",
       "version_major": 2,
       "version_minor": 0
      },
      "text/plain": [
       "VBox(children=(Label(value='Instant Calc'), FloatText(value=8.0, description='speculated interest:', layout=La…"
      ]
     },
     "metadata": {},
     "output_type": "display_data"
    }
   ],
   "source": [
    "import ipywidgets as widgets\n",
    "\n",
    "def button_run_on_click_j(_):\n",
    "    status_label_j.value = \"running....\"\n",
    "\n",
    "    columns = ['Input','FYT APY', 'FYT Price', 'Slippage APY', 'Spent', 'Received', 'Gain', 'APY']\n",
    "    values = []\n",
    "\n",
    "    for i in np.arange(.5, 5.1, .1):\n",
    "      results = jonny(speculated_interest=yield_interest_input_j.value, \\\n",
    "                                input_amount = i, \\\n",
    "                                days_maturity = float(maturity_period_input_j.value), \\\n",
    "                                liquidity = liquidity_input_j.value, \\\n",
    "                                time_stretch = time_stretch_input_j.value, \\\n",
    "                                target_interest=target_interest_input_j.value)\n",
    "      if results is not None:\n",
    "        values.append(results)\n",
    "\n",
    "    df = pd.DataFrame(values, columns = columns)\n",
    "    pd.options.display.width = 20\n",
    "    df.style.set_properties(**{'text-align': 'left'})\n",
    "    \n",
    "    status_label_j.value = \"\"\n",
    "\n",
    "    result_box_j = setup_ui(df)\n",
    "\n",
    "    main_box_j.children = [yield_interest_input_j, target_interest_input_j, maturity_period_input_j, days_matured_input_j, liquidity_input_j, time_stretch_input_j, button_run_j, status_label_j, result_box_j]\n",
    "\n",
    "\n",
    "def setup_ui(df):\n",
    "    out = widgets.Output()\n",
    "    with out:\n",
    "        display(df)\n",
    "    return out\n",
    "jonny_label = widgets.Label()\n",
    "jonny_label.value = \"Instant Calc\"\n",
    "status_label_j = widgets.Label()\n",
    "status_label_j.layout.width = '300px'\n",
    "\n",
    "layout = widgets.Layout(\n",
    "    align_content='flex-start',\n",
    ")\n",
    "style = {\n",
    "    'description_width':'initial'\n",
    "}\n",
    "yield_interest_input_j = widgets.FloatText(description='speculated interest:', value=8, style=style, layout=layout)\n",
    "target_interest_input_j = widgets.FloatText(description='target interest:', value=16, style=style, layout=layout)\n",
    "maturity_period_input_j = widgets.Dropdown(description='tranche length:', options=['90', '120', '180'],style=style, layout=layout)\n",
    "days_matured_input_j = widgets.FloatText(description='days matured:', value=0, style=style, layout=layout,disabled=True)\n",
    "liquidity_input_j = widgets.FloatText(description='liquidity:', value=50, style=style, layout=layout)\n",
    "time_stretch_input_j = widgets.FloatText(description='time stretch:', value=15, style=style, layout=layout)\n",
    "button_run_j = widgets.Button(description=\"Run\")\n",
    "main_box_j = widgets.VBox([jonny_label,yield_interest_input_j, target_interest_input_j, maturity_period_input_j, days_matured_input_j, liquidity_input_j, time_stretch_input_j, button_run_j, status_label_j])\n",
    "button_run_j.on_click(button_run_on_click_j)\n",
    "display(main_box_j)"
   ]
  },
  {
   "cell_type": "code",
   "execution_count": null,
   "metadata": {},
   "outputs": [],
   "source": []
  },
  {
   "cell_type": "code",
   "execution_count": null,
   "metadata": {},
   "outputs": [],
   "source": []
  },
  {
   "cell_type": "code",
   "execution_count": null,
   "metadata": {},
   "outputs": [],
   "source": []
  },
  {
   "cell_type": "code",
   "execution_count": null,
   "metadata": {},
   "outputs": [],
   "source": []
  },
  {
   "cell_type": "code",
   "execution_count": null,
   "metadata": {},
   "outputs": [],
   "source": []
  }
 ],
 "metadata": {
  "kernelspec": {
   "display_name": "Python 3",
   "language": "python",
   "name": "python3"
  },
  "language_info": {
   "codemirror_mode": {
    "name": "ipython",
    "version": 3
   },
   "file_extension": ".py",
   "mimetype": "text/x-python",
   "name": "python",
   "nbconvert_exporter": "python",
   "pygments_lexer": "ipython3",
   "version": "3.8.5"
  }
 },
 "nbformat": 4,
 "nbformat_minor": 4
}
