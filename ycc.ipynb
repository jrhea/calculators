{
 "cells": [
  {
   "cell_type": "code",
   "execution_count": 21,
   "metadata": {},
   "outputs": [],
   "source": [
    "import pandas as pd\n",
    "import matplotlib.pyplot as plt\n",
    "\n",
    "def calculate_yield(yield_interest = 10, starting_fyt_interest = 5,\n",
    "                    ending_fyt_interest = 10, step_size = .15,\n",
    "                    input_amount = 100, liquidity = 4000, gas_fee = .0019,\n",
    "                    days_maturity = 90, days_matured = 0,\n",
    "                    time_stretch = 364 * 10):\n",
    "  columns = (\n",
    "    'X_Reserves',\n",
    "    'PT Interest',\n",
    "    'Interest W/ Slippage',\n",
    "    'Total Expenditure',\n",
    "    'Received at Maturity',\n",
    "    'APY'\n",
    "  )\n",
    "\n",
    "  values = []\n",
    "  current_interest = starting_fyt_interest\n",
    "\n",
    "  # zero out accumulated interest\n",
    "  accumulated_interest = 0\n",
    "\n",
    "  # Include time stretch for *4\n",
    "  t = (days_maturity - days_matured) / time_stretch\n",
    "\n",
    "  for i in range (0, int(((ending_fyt_interest - starting_fyt_interest) / step_size)) + 1):\n",
    "    if days_matured > 0:\n",
    "      accumulated_interest = input_amount * days_matured/365 * yield_interest/100\n",
    "\n",
    "    # If the apy is 10% and there is 6 months remaining, the applied interest is 5%\n",
    "    applied_interest = (days_maturity - days_matured) / 365 * current_interest\n",
    "\n",
    "    y_start = liquidity\n",
    "    x_start = y_start/((1-applied_interest/100)**(-1/t)-1)\n",
    "    total_supply = x_start\n",
    "\n",
    "    k = (y_start + total_supply)**(1-t) + x_start**(1-t)\n",
    "    j = input_amount - accumulated_interest\n",
    "    i = x_start - pow(k-pow(y_start + total_supply + j,1-t),1/(1-t))\n",
    "    fee = (j - i) * .1\n",
    "    i = i - fee\n",
    "\n",
    "    fyt_discount_with_slippage = (1 - (i / j)) * 100\n",
    "\n",
    "    row = []\n",
    "    row.append(x_start)\n",
    "    row.append(current_interest)\n",
    "    row.append(round(fyt_discount_with_slippage * (365/ (days_maturity - days_matured)), 2))\n",
    "    fyt_expenditure = input_amount - accumulated_interest - i\n",
    "    expenditure = fyt_expenditure + gas_fee + accumulated_interest\n",
    "\n",
    "    row.append(expenditure)\n",
    "\n",
    "    received = (input_amount * yield_interest / 100) * (days_maturity) / 365\n",
    "    row.append(received)\n",
    "    row.append(round(((received / expenditure) - 1) * 365 / (days_maturity - days_matured) * 100, 2))\n",
    "    values.append(row)\n",
    "    current_interest = current_interest + step_size\n",
    "\n",
    "  df = pd.DataFrame(values, columns = columns)\n",
    "  pd.options.display.width = 20\n",
    "  df.style.set_properties(**{'text-align': 'left'})\n",
    "  return df"
   ]
  },
  {
   "cell_type": "code",
   "execution_count": null,
   "metadata": {},
   "outputs": [],
   "source": []
  },
  {
   "cell_type": "code",
   "execution_count": 24,
   "metadata": {
    "scrolled": true
   },
   "outputs": [
    {
     "data": {
      "application/vnd.jupyter.widget-view+json": {
       "model_id": "293db8bec31240cab823ad7955b961d5",
       "version_major": 2,
       "version_minor": 0
      },
      "text/plain": [
       "interactive(children=(IntSlider(value=25, description='yield_interest', max=50, min=1), IntSlider(value=5, des…"
      ]
     },
     "metadata": {},
     "output_type": "display_data"
    },
    {
     "name": "stdout",
     "output_type": "stream",
     "text": [
      "<function foo at 0x7f8b4dd4dd30>\n"
     ]
    }
   ],
   "source": [
    "import ipywidgets as widgets\n",
    "from ipywidgets import interact\n",
    "\n",
    "\n",
    "def foo(yield_interest,starting_fyt_interest):\n",
    "    return calculate_yield(yield_interest,starting_fyt_interest);\n",
    "\n",
    "\n",
    "print(interact(foo,yield_interest=(1,50,1),starting_fyt_interest=(1,10,1)))\n",
    "\n"
   ]
  },
  {
   "cell_type": "code",
   "execution_count": null,
   "metadata": {},
   "outputs": [],
   "source": []
  }
 ],
 "metadata": {
  "kernelspec": {
   "display_name": "Python 3",
   "language": "python",
   "name": "python3"
  },
  "language_info": {
   "codemirror_mode": {
    "name": "ipython",
    "version": 3
   },
   "file_extension": ".py",
   "mimetype": "text/x-python",
   "name": "python",
   "nbconvert_exporter": "python",
   "pygments_lexer": "ipython3",
   "version": "3.8.5"
  }
 },
 "nbformat": 4,
 "nbformat_minor": 4
}
