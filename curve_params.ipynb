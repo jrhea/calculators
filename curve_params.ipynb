{
 "cells": [
  {
   "cell_type": "code",
   "execution_count": 27,
   "metadata": {},
   "outputs": [],
   "source": [
    "from ipywidgets import interact\n",
    "\n",
    "import math\n",
    "\n",
    "def calc_x_reserves(vault_apy,y_reserves,tranche_length,time_stretch):\n",
    "  t=tranche_length/(365*time_stretch)\n",
    "  T=tranche_length/365\n",
    "  return y_reserves/((1-T*(vault_apy/100))**(-1/t)-1)\n",
    "\n",
    "def calc_price(x_reserves,y_reserves,total_supply,days_until_maturity,time_stretch):\n",
    "  t=days_until_maturity/(365*time_stretch)\n",
    "  return 1/((y_reserves + total_supply)/x_reserves)**t\n",
    "\n",
    "def calc_k(in_reserves,out_reserves,t):\n",
    "  return pow(in_reserves,1-t) + pow(out_reserves,1-t)\n",
    "\n",
    "def calc_apy(price,days_until_maturity):\n",
    "  T=days_until_maturity/365\n",
    "  return (1-price)/T * 100\n",
    "\n",
    "def is_trade_valid(in_,in_reserves,out_reserves,t):\n",
    "  k = pow(in_reserves,1-t) + pow(out_reserves,1-t)\n",
    "  check = math.log(k)/math.log(in_reserves + in_) + t\n",
    "  return True if check >= 1 else False\n",
    "\n",
    "def calc_max_trade(in_reserves,out_reserves,t):\n",
    "  k = pow(in_reserves,1-t) + pow(out_reserves,1-t)\n",
    "  return k**(1/(1-t)) - in_reserves\n",
    "\n",
    "def calc_out_given_in(in_,in_reserves,out_reserves,token_out,g,t):\n",
    "        k=pow(in_reserves,1-t) + pow(out_reserves,1-t)\n",
    "        without_fee = out_reserves - pow(k-pow(in_reserves+in_,1-t),1/(1-t))\n",
    "        if token_out == \"base\":\n",
    "            fee =  (in_-without_fee)*g\n",
    "            with_fee = without_fee-fee\n",
    "        elif token_out == \"fyt\":\n",
    "            fee =  (without_fee-in_)*g\n",
    "            with_fee = without_fee-fee   \n",
    "        return (with_fee,without_fee,fee)\n",
    "    \n",
    "    \n",
    "def calc_max_percent_apy_change(vault_apy,y_reserves,tranche_length,time_stretch):\n",
    "    g = 0.1\n",
    "    epsilon = .0000001\n",
    "    x_reserves = calc_x_reserves(vault_apy,y_reserves,tranche_length,time_stretch)\n",
    "    print(\"Required Base Reserves: \" + str(x_reserves))\n",
    "    total_supply = x_reserves\n",
    "    t = tranche_length/(365*time_stretch)\n",
    "    max_trade = calc_max_trade(y_reserves+total_supply,x_reserves,t) - epsilon\n",
    "    print(\"Max Valid Trade: {:}\".format(max_trade))\n",
    "    (with_fee,without_fee,fee)=calc_out_given_in(max_trade,y_reserves+total_supply,x_reserves,\"base\",g,t)\n",
    "    unit_price = without_fee/max_trade\n",
    "    print(\"FYT Unit Price: {:}\".format(unit_price))\n",
    "    resulting_apy=calc_apy(unit_price,tranche_length)\n",
    "    print(\"Resulting APY: {:}\".format(resulting_apy))\n",
    "    max_percent_apy_change = (resulting_apy-vault_apy)/vault_apy * 100\n",
    "    return 'Max Percent APY Change: {}'.format(max_percent_apy_change)"
   ]
  },
  {
   "cell_type": "code",
   "execution_count": 28,
   "metadata": {},
   "outputs": [
    {
     "data": {
      "application/vnd.jupyter.widget-view+json": {
       "model_id": "3dc1ac1ab3a74e70ae8bca5afb2ad30e",
       "version_major": 2,
       "version_minor": 0
      },
      "text/plain": [
       "interactive(children=(IntSlider(value=25, description='vault_apy', max=50, min=1), IntSlider(value=500, descri…"
      ]
     },
     "metadata": {},
     "output_type": "display_data"
    }
   ],
   "source": [
    "interact(calc_max_percent_apy_change,vault_apy=(1,50,1),y_reserves=(50,1000,50),tranche_length=(30,360,30),time_stretch=(5,50,5));"
   ]
  },
  {
   "cell_type": "code",
   "execution_count": 95,
   "metadata": {},
   "outputs": [
    {
     "data": {
      "application/vnd.jupyter.widget-view+json": {
       "model_id": "d6f7fbe3b28f4b0f82528e14f83102a6",
       "version_major": 2,
       "version_minor": 0
      },
      "text/plain": [
       "interactive(children=(IntSlider(value=25, description='xlim', max=50), IntSlider(value=1500, description='ylim…"
      ]
     },
     "metadata": {},
     "output_type": "display_data"
    },
    {
     "data": {
      "text/plain": [
       "<function __main__.setOptions(xlim, ylim)>"
      ]
     },
     "execution_count": 95,
     "metadata": {},
     "output_type": "execute_result"
    }
   ],
   "source": [
    "import nbinteract as nbi\n",
    "import numpy as np\n",
    "\n",
    "def x_values(): return np.arange(1, 50)\n",
    "def y_values(xs,y_reserves,tranche_length,time_stretch):\n",
    "    g = 0.1\n",
    "    epsilon = .0000001\n",
    "    resulting_apys = []\n",
    "    max_percent_apy_changes = []\n",
    "    for vault_apy in xs:\n",
    "        x_reserves = calc_x_reserves(vault_apy,y_reserves,tranche_length,time_stretch)\n",
    "        total_supply = x_reserves\n",
    "        t = tranche_length/(365*time_stretch)\n",
    "        max_trade = calc_max_trade(y_reserves+total_supply,x_reserves,t) - epsilon\n",
    "        (with_fee,without_fee,fee)=calc_out_given_in(max_trade,y_reserves+total_supply,x_reserves,\"base\",g,t)\n",
    "        unit_price = without_fee/max_trade\n",
    "        resulting_apy=calc_apy(unit_price,tranche_length)\n",
    "        resulting_apys.append(resulting_apy)\n",
    "        max_percent_apy_change = (resulting_apy-vault_apy)/vault_apy * 100\n",
    "        max_percent_apy_changes.append(max_percent_apy_change)\n",
    "    return np.array(max_percent_apy_changes)\n",
    "\n",
    "\n",
    "def setOptions(xlim,ylim):\n",
    "    #global opts\n",
    "    opts = {\n",
    "        'xlim': (0, xlim),\n",
    "        'ylim': (0, ylim),\n",
    "        'xlabel': 'Vault APY',\n",
    "        'ylabel': 'Max Percent APY Change',\n",
    "        'title': 'Vault APY vs Max Percent APY Change',\n",
    "        'animation_duration': 100,\n",
    "    }\n",
    "    return nbi.line(x_values, y_values, y_reserves=(50,1000,50),tranche_length=(30,360,30),time_stretch=(5,50,5), options=opts)\n",
    "    \n",
    "\n",
    "interact(setOptions,xlim=(0,50),ylim=(0,3000))"
   ]
  }
 ],
 "metadata": {
  "kernelspec": {
   "display_name": "Python 3",
   "language": "python",
   "name": "python3"
  },
  "language_info": {
   "codemirror_mode": {
    "name": "ipython",
    "version": 3
   },
   "file_extension": ".py",
   "mimetype": "text/x-python",
   "name": "python",
   "nbconvert_exporter": "python",
   "pygments_lexer": "ipython3",
   "version": "3.7.4"
  }
 },
 "nbformat": 4,
 "nbformat_minor": 2
}
