{
 "cells": [
  {
   "cell_type": "code",
   "execution_count": 263,
   "metadata": {},
   "outputs": [],
   "source": [
    "def jonny(speculated_interest=8,input_amount=.5,\\\n",
    "          days_maturity=90,days_matured=0,\n",
    "          liquidity=50,time_stretch=15,\\\n",
    "          gas_fee=0.0019,target_interest=16):\n",
    "    t = (days_maturity-days_matured) / (365 * time_stretch)\n",
    "    T = (days_maturity-days_matured) / 365\n",
    "    y_start = liquidity\n",
    "    g = .1\n",
    "    accumulated_interest = input_amount * days_matured/365 * speculated_interest/100\n",
    "    A = ((input_amount)*(speculated_interest/100)*T-(target_interest/1000)*input_amount*T-gas_fee)/input_amount\n",
    "    resulting_pt_apy = A/T*100\n",
    "    x_start=y_start/((1-T*(resulting_pt_apy/100))**(-1/t)-1)\n",
    "    unit_price = 1-A\n",
    "    expenditure=input_amount-unit_price*input_amount+gas_fee+accumulated_interest\n",
    "    received = (input_amount * speculated_interest / 100) * (days_maturity) / 365\n",
    "    output_amount = (1-A)*input_amount\n",
    "    fee = (input_amount - output_amount) * g\n",
    "    output_amount = output_amount+fee\n",
    "    apy = round(((received / expenditure) - 1) * 365 / (days_maturity - days_matured) * 100, 2)\n",
    "    # calculate pre-slippage\n",
    "    pt_apy = (1- output_amount/input_amount)/T * 100 \n",
    "    y_after=liquidity+input_amount\n",
    "    x_after=y_after/((1-T*(pt_apy/100))**(-1/t)-1)\n",
    "    total_supply = x_after\n",
    "    k = (y_after + total_supply)**(1-t) + x_after**(1-t)\n",
    "    j = input_amount \n",
    "    i = y_after + total_supply - pow(k-pow(x_after + j,1-t),1/(1-t))\n",
    "    \n",
    "    y_before=liquidity\n",
    "    x_before=x_after+output_amount\n",
    "    pt_apy = (1-(j / i))/T * 100 + (1-1/(pow((y_before+x_before)/x_before,t)))/T\n",
    "    \n",
    "    row = []\n",
    "    row.append(input_amount)\n",
    "    row.append(pt_apy)\n",
    "    row.append(unit_price)\n",
    "    row.append(resulting_pt_apy)\n",
    "    row.append(expenditure)\n",
    "    row.append(received)\n",
    "    row.append(received - expenditure)\n",
    "    row.append(apy)\n",
    "    return row"
   ]
  },
  {
   "cell_type": "code",
   "execution_count": 234,
   "metadata": {},
   "outputs": [
    {
     "data": {
      "application/vnd.jupyter.widget-view+json": {
       "model_id": "1301c26546fb4c60a6bdb1f63810cf17",
       "version_major": 2,
       "version_minor": 0
      },
      "text/plain": [
       "VBox(children=(Label(value='Instant Calc'), FloatText(value=8.0, description='speculated interest:', layout=La…"
      ]
     },
     "metadata": {},
     "output_type": "display_data"
    }
   ],
   "source": [
    "import ipywidgets as widgets\n",
    "import numpy as np\n",
    "import pandas as pd\n",
    "\n",
    "def button_run_on_click_j(_):\n",
    "    status_label_j.value = \"running....\"\n",
    "\n",
    "    columns = ['Input','FYT APY', 'FYT Price', 'Slippage APY', 'Spent', 'Received', 'Gain', 'APY']\n",
    "    values = []\n",
    "\n",
    "    for i in np.arange(.5, 5.1, .1):\n",
    "      results = jonny(speculated_interest=yield_interest_input_j.value, \\\n",
    "                                input_amount = i, \\\n",
    "                                days_maturity = float(maturity_period_input_j.value), \\\n",
    "                                days_matured = float(days_matured_input_j.value),\\\n",
    "                                liquidity = liquidity_input_j.value, \\\n",
    "                                time_stretch = time_stretch_input_j.value, \\\n",
    "                                target_interest=target_interest_input_j.value)\n",
    "      if results is not None:\n",
    "        values.append(results)\n",
    "\n",
    "    df = pd.DataFrame(values, columns = columns)\n",
    "    pd.options.display.width = 20\n",
    "    df.style.set_properties(**{'text-align': 'left'})\n",
    "    \n",
    "    status_label_j.value = \"\"\n",
    "\n",
    "    result_box_j = setup_ui(df)\n",
    "\n",
    "    main_box_j.children = [yield_interest_input_j, target_interest_input_j, maturity_period_input_j, days_matured_input_j, liquidity_input_j, time_stretch_input_j, button_run_j, status_label_j, result_box_j]\n",
    "\n",
    "\n",
    "def setup_ui(df):\n",
    "    out = widgets.Output()\n",
    "    with out:\n",
    "        display(df)\n",
    "    return out\n",
    "jonny_label = widgets.Label()\n",
    "jonny_label.value = \"Instant Calc\"\n",
    "status_label_j = widgets.Label()\n",
    "status_label_j.layout.width = '300px'\n",
    "\n",
    "layout = widgets.Layout(\n",
    "    align_content='flex-start',\n",
    ")\n",
    "style = {\n",
    "    'description_width':'initial'\n",
    "}\n",
    "yield_interest_input_j = widgets.FloatText(description='speculated interest:', value=8, style=style, layout=layout)\n",
    "target_interest_input_j = widgets.FloatText(description='target interest:', value=16, style=style, layout=layout)\n",
    "maturity_period_input_j = widgets.Dropdown(description='term length:', options=['90', '120', '180'],style=style, layout=layout)\n",
    "days_matured_input_j = widgets.FloatText(description='days matured:', value=0, style=style, layout=layout)\n",
    "liquidity_input_j = widgets.FloatText(description='liquidity:', value=50, style=style, layout=layout)\n",
    "time_stretch_input_j = widgets.FloatText(description='time stretch:', value=15, style=style, layout=layout)\n",
    "button_run_j = widgets.Button(description=\"Run\")\n",
    "main_box_j = widgets.VBox([jonny_label,yield_interest_input_j, target_interest_input_j, maturity_period_input_j, days_matured_input_j, liquidity_input_j, time_stretch_input_j, button_run_j, status_label_j])\n",
    "button_run_j.on_click(button_run_on_click_j)\n",
    "display(main_box_j)"
   ]
  }
 ],
 "metadata": {
  "kernelspec": {
   "display_name": "Python 3",
   "language": "python",
   "name": "python3"
  },
  "language_info": {
   "codemirror_mode": {
    "name": "ipython",
    "version": 3
   },
   "file_extension": ".py",
   "mimetype": "text/x-python",
   "name": "python",
   "nbconvert_exporter": "python",
   "pygments_lexer": "ipython3",
   "version": "3.8.5"
  }
 },
 "nbformat": 4,
 "nbformat_minor": 4
}
